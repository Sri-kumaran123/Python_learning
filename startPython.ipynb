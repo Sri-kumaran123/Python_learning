{
 "cells": [
  {
   "attachments": {},
   "cell_type": "markdown",
   "metadata": {},
   "source": [
    "# Welcom to Our Python course"
   ]
  },
  {
   "attachments": {},
   "cell_type": "markdown",
   "metadata": {},
   "source": [
    "## Markdown sell in Python\n",
    "* \"#\" use this  heading .\n",
    "    1. \"##\" this for second haeding.\n",
    "     ## I am second \n",
    "    2. \"###\" this for third heading like that.\n",
    "    ###  I am third you can use up to \"######\".\n",
    "* \"** ----**\" this for bold text.\n",
    "    **i am bold now**\n",
    "* use three for stright line \"***\"\n",
    "***"
   ]
  },
  {
   "cell_type": "code",
   "execution_count": 1,
   "metadata": {},
   "outputs": [
    {
     "name": "stdout",
     "output_type": "stream",
     "text": [
      "Hello World\n"
     ]
    }
   ],
   "source": [
    "print(\"Hello World\")"
   ]
  },
  {
   "attachments": {},
   "cell_type": "markdown",
   "metadata": {},
   "source": [
    "## Variables"
   ]
  },
  {
   "cell_type": "code",
   "execution_count": 2,
   "metadata": {},
   "outputs": [
    {
     "data": {
      "text/plain": [
       "int"
      ]
     },
     "execution_count": 2,
     "metadata": {},
     "output_type": "execute_result"
    }
   ],
   "source": [
    "a=5\n",
    "b=\"str\"\n",
    "f=4.5\n",
    "t=True\n",
    "a=False\n",
    "bi=0b101 # Binary values '0b'\n",
    "oc=0o16  # Octal format '0o'\n",
    "hex=0xA  # Hexadecimal format '0x'\n",
    "\n",
    "type(bi)"
   ]
  },
  {
   "attachments": {},
   "cell_type": "markdown",
   "metadata": {},
   "source": [
    "## Data Types"
   ]
  },
  {
   "cell_type": "code",
   "execution_count": 3,
   "metadata": {},
   "outputs": [
    {
     "name": "stdout",
     "output_type": "stream",
     "text": [
      "<class 'int'>\n",
      "<class 'float'>\n",
      "<class 'str'>\n",
      "<class 'str'>\n",
      "<class 'bool'>\n",
      "<class 'complex'>\n",
      "<class 'NoneType'>\n"
     ]
    }
   ],
   "source": [
    "i=5\n",
    "f=2.2\n",
    "stri=\"str1\"\n",
    "stri1='str2'\n",
    "b=True\n",
    "c=2+4j\n",
    "\n",
    "in1=None\n",
    "\n",
    "\n",
    "\n",
    "print(type(i))\n",
    "print(type(f))\n",
    "print(type(stri))\n",
    "print(type(stri1))\n",
    "print(type(b))\n",
    "print(type(c))\n",
    "print(type(in1))"
   ]
  },
  {
   "attachments": {},
   "cell_type": "markdown",
   "metadata": {},
   "source": [
    "### Data Type in Python\n",
    "1. Numeric\n",
    "    * Interger (int)\n",
    "    * Complex Number\n",
    "    * Float (float)\n",
    "2. Dictionary {}\n",
    "3. Bollean\n",
    "4. Set {}\n",
    "5. Sequence Type\n",
    "    * String\n",
    "    * List []\n",
    "    * Tuple ()"
   ]
  },
  {
   "attachments": {},
   "cell_type": "markdown",
   "metadata": {},
   "source": [
    "## Interger"
   ]
  },
  {
   "cell_type": "code",
   "execution_count": 2,
   "metadata": {},
   "outputs": [
    {
     "data": {
      "text/plain": [
       "int"
      ]
     },
     "execution_count": 2,
     "metadata": {},
     "output_type": "execute_result"
    }
   ],
   "source": [
    "a=-45363783833\n",
    "type(a)"
   ]
  },
  {
   "attachments": {},
   "cell_type": "markdown",
   "metadata": {},
   "source": [
    "## Float"
   ]
  },
  {
   "cell_type": "code",
   "execution_count": 4,
   "metadata": {},
   "outputs": [
    {
     "data": {
      "text/plain": [
       "float"
      ]
     },
     "execution_count": 4,
     "metadata": {},
     "output_type": "execute_result"
    }
   ],
   "source": [
    "a=34.574883\n",
    "type(a)"
   ]
  },
  {
   "attachments": {},
   "cell_type": "markdown",
   "metadata": {},
   "source": [
    "## String"
   ]
  },
  {
   "cell_type": "code",
   "execution_count": 5,
   "metadata": {},
   "outputs": [
    {
     "name": "stdout",
     "output_type": "stream",
     "text": [
      "<class 'str'> <class 'str'>\n",
      "H\n",
      "o\n",
      "Hello\n",
      "Hlo\n",
      "\n",
      "ol\n"
     ]
    }
   ],
   "source": [
    "Str1=\"Hello\"\n",
    "Str2='world'\n",
    "print(type(Str1),type(Str2))\n",
    "print(Str1[0])\n",
    "print(Str1[-1])\n",
    "print(Str1[0:5])\n",
    "print(Str1[0:5:2])\n",
    "print(Str1[-1:0:2])\n",
    "print(Str1[-1:0:-2])"
   ]
  },
  {
   "attachments": {},
   "cell_type": "markdown",
   "metadata": {},
   "source": [
    "### Data Types in Python\n",
    "1. Immutable\n",
    "    * Number\n",
    "    * String\n",
    "    * Tuple\n",
    "2. Mutable\n",
    "    * List\n",
    "    * Dictionary\n",
    "    * Sets"
   ]
  },
  {
   "attachments": {},
   "cell_type": "markdown",
   "metadata": {},
   "source": [
    "**we can understand by using a build in function id()**"
   ]
  },
  {
   "cell_type": "code",
   "execution_count": 5,
   "metadata": {},
   "outputs": [
    {
     "name": "stdout",
     "output_type": "stream",
     "text": [
      "Number\n",
      "140732165583784 2920254491376\n",
      "140732165583816 2920254497712\n"
     ]
    }
   ],
   "source": [
    "print(\"Number\")\n",
    "a=5\n",
    "b=3.4\n",
    "print(id(a),id(b))\n",
    "a=6\n",
    "b=4.2\n",
    "print(id(a),id(b))\n"
   ]
  },
  {
   "cell_type": "code",
   "execution_count": 7,
   "metadata": {},
   "outputs": [
    {
     "name": "stdout",
     "output_type": "stream",
     "text": [
      "String\n",
      "2920233640048\n",
      "2920233640048\n",
      "2920254779184\n"
     ]
    }
   ],
   "source": [
    "print(\"String\")\n",
    "a=\"hello\"\n",
    "print(id(a))\n",
    "a=\"hello\"\n",
    "print(id(a))\n",
    "a=\"Hello\"\n",
    "print(id(a))"
   ]
  },
  {
   "cell_type": "code",
   "execution_count": 8,
   "metadata": {},
   "outputs": [
    {
     "ename": "TypeError",
     "evalue": "'str' object does not support item assignment",
     "output_type": "error",
     "traceback": [
      "\u001b[1;31m---------------------------------------------------------------------------\u001b[0m",
      "\u001b[1;31mTypeError\u001b[0m                                 Traceback (most recent call last)",
      "\u001b[1;32md:\\DataA\\startPython.ipynb Cell 19\u001b[0m line \u001b[0;36m2\n\u001b[0;32m      <a href='vscode-notebook-cell:/d%3A/DataA/startPython.ipynb#X24sZmlsZQ%3D%3D?line=0'>1</a>\u001b[0m \u001b[39m# it give a error \u001b[39;00m\n\u001b[1;32m----> <a href='vscode-notebook-cell:/d%3A/DataA/startPython.ipynb#X24sZmlsZQ%3D%3D?line=1'>2</a>\u001b[0m a[\u001b[39m0\u001b[39;49m]\u001b[39m=\u001b[39m\u001b[39m'\u001b[39m\u001b[39mt\u001b[39m\u001b[39m'\u001b[39m\n\u001b[0;32m      <a href='vscode-notebook-cell:/d%3A/DataA/startPython.ipynb#X24sZmlsZQ%3D%3D?line=2'>3</a>\u001b[0m \u001b[39m# because 'String' is immutable\u001b[39;00m\n",
      "\u001b[1;31mTypeError\u001b[0m: 'str' object does not support item assignment"
     ]
    }
   ],
   "source": [
    "# it give a error \n",
    "a[0]='t'\n",
    "# because 'String' is immutable"
   ]
  },
  {
   "cell_type": "code",
   "execution_count": 9,
   "metadata": {},
   "outputs": [
    {
     "name": "stdout",
     "output_type": "stream",
     "text": [
      "2920255266112\n",
      "2920263930496\n"
     ]
    }
   ],
   "source": [
    "t=(1,2,3)\n",
    "print(id(t))\n",
    "t=(3,4,5)\n",
    "print(id(t))"
   ]
  },
  {
   "cell_type": "code",
   "execution_count": null,
   "metadata": {},
   "outputs": [],
   "source": [
    "print(t[0])\n",
    "# see below"
   ]
  },
  {
   "cell_type": "code",
   "execution_count": null,
   "metadata": {},
   "outputs": [],
   "source": [
    "# it give error because Tuple is immutable\n",
    "t[0]=4"
   ]
  },
  {
   "cell_type": "code",
   "execution_count": null,
   "metadata": {},
   "outputs": [],
   "source": [
    "l=[2,3,4]\n",
    "print(id(l))\n",
    "l=[3,4,5]\n",
    "print(id(l))\n",
    "# notice this\n",
    "print('-'*20)\n",
    "l=[3,4,5]\n",
    "print(id(l))\n",
    "l[0]=5\n",
    "print(id(l))\n",
    "\n",
    "#like that Dictionary and sets also react"
   ]
  },
  {
   "attachments": {},
   "cell_type": "markdown",
   "metadata": {},
   "source": [
    "## Type Casting"
   ]
  },
  {
   "attachments": {},
   "cell_type": "markdown",
   "metadata": {},
   "source": [
    "**int(value,base[option])**"
   ]
  },
  {
   "cell_type": "code",
   "execution_count": null,
   "metadata": {},
   "outputs": [],
   "source": [
    "st='2'\n",
    "f=3.4\n",
    "hex=0xA\n",
    "i=int(f)\n",
    "i1=int(st)\n",
    "i2=int(hex)\n",
    "print(i,i1,i2)\n",
    "print(int(\"0xA\",16))\n",
    "print(int(\"0o16\",8))\n",
    "print(int())#default without any value int return 0\n",
    "\n",
    "print(int(True))\n",
    "print(int(False))\n",
    "\n",
    "# print(int(None)) it give error\n",
    "\n",
    "# int('two') it give error"
   ]
  },
  {
   "attachments": {},
   "cell_type": "markdown",
   "metadata": {},
   "source": [
    "**float(v)**"
   ]
  },
  {
   "cell_type": "code",
   "execution_count": null,
   "metadata": {},
   "outputs": [],
   "source": [
    "i=2\n",
    "st=\"3.7\"\n",
    "st2=\"3\"\n",
    "f=float(i)\n",
    "f0=float(st)\n",
    "f1=float(st2)\n",
    "\n",
    "print(f,f0,f1,float())\n",
    "# float without any value return 0.0\n",
    "print(float(\"nan\"))\n",
    "print(float(\"NaN\"))\n",
    "print(float(\"inf\"))\n",
    "print(float(\"Inf\"))\n",
    "print(float(\"infinity\"))\n",
    "print(float(\"InFinity\"))\n",
    "\n",
    "print(float(True))\n",
    "print(float(False))\n"
   ]
  },
  {
   "cell_type": "code",
   "execution_count": null,
   "metadata": {},
   "outputs": [],
   "source": [
    "# this give error don not think like that\n",
    "\n",
    "print(float(\"hi\"))\n",
    "# only nan and infinity can give value in float"
   ]
  },
  {
   "attachments": {},
   "cell_type": "markdown",
   "metadata": {},
   "source": [
    "**str(Object, encoding=encoding[optional],errors=errors[optional])**\n",
    "* encoding means the encoding of object default is UTF-8\n",
    "* error means Specifies what to do if the decoding fails"
   ]
  },
  {
   "cell_type": "code",
   "execution_count": null,
   "metadata": {},
   "outputs": [],
   "source": [
    "i=10\n",
    "f=0.345\n",
    "c=2+4j\n",
    "\n",
    "str1=str(i)\n",
    "str2=str(f)\n",
    "str3=str(c)\n",
    "\n",
    "print(str1,str2,str3)\n",
    "\n",
    "\n",
    "\n",
    "#see \n",
    "\n",
    "b=bytes('Python',encoding='utf-8')\n",
    "print(b)\n",
    "print(str(b,encoding='ascii',errors='ignore'))# have to learn about this\n",
    "print(str(b,encoding='ascii',errors='strict'))\n",
    "\n",
    "\n",
    "str()"
   ]
  },
  {
   "attachments": {},
   "cell_type": "markdown",
   "metadata": {},
   "source": [
    "**bool()**"
   ]
  },
  {
   "cell_type": "code",
   "execution_count": 10,
   "metadata": {},
   "outputs": [
    {
     "name": "stdout",
     "output_type": "stream",
     "text": [
      "True\n",
      "False\n",
      "True\n",
      "True\n",
      "True\n",
      "False\n",
      "False\n",
      "False\n"
     ]
    }
   ],
   "source": [
    "print(bool(1))\n",
    "print(bool(0))\n",
    "print(bool(1.0))\n",
    "print(bool(0.1))\n",
    "print(bool('h'))\n",
    "print(bool())\n",
    "k=''# empty String\n",
    "print(bool(k))\n",
    "print(bool(None))"
   ]
  },
  {
   "attachments": {},
   "cell_type": "markdown",
   "metadata": {},
   "source": [
    "## Operators\n",
    "* Arithmetic operator\n",
    "* Assignment operator\n",
    "* comparison operator\n",
    "* Logical operator\n",
    "* Identity operator\n",
    "* Membership operator\n",
    "* Bitwise operator"
   ]
  },
  {
   "attachments": {},
   "cell_type": "markdown",
   "metadata": {},
   "source": [
    "### Arithmetic Operator"
   ]
  },
  {
   "cell_type": "code",
   "execution_count": null,
   "metadata": {},
   "outputs": [],
   "source": [
    "x=3\n",
    "y=-9\n",
    "\n",
    "print('Addition',x+y)\n",
    "print('Subtraction',x-y)\n",
    "print('Mutiplication',x*y)\n",
    "print('Division',x/y)\n",
    "print('Modules',x%y)\n",
    "print('Exponentiation',x**y)\n",
    "print('Floor division',x//y)"
   ]
  },
  {
   "attachments": {},
   "cell_type": "markdown",
   "metadata": {},
   "source": [
    "### Assignment Operator"
   ]
  },
  {
   "cell_type": "code",
   "execution_count": null,
   "metadata": {},
   "outputs": [],
   "source": [
    "x=6\n",
    "# print(x=x+3) give error\n",
    "\n",
    "x=x+2\n",
    "x=x-2\n",
    "x=x*3\n",
    "x=x%2\n",
    "x=x//2\n",
    "x=x**3\n",
    "x=x|2\n",
    "x=x^3\n",
    "x=x>>3\n",
    "x=x<<2\n",
    "# sort hand also available in python\n",
    "\n",
    "# x+=2 like that"
   ]
  },
  {
   "attachments": {},
   "cell_type": "markdown",
   "metadata": {},
   "source": [
    "### Comparison Operators\n"
   ]
  },
  {
   "cell_type": "code",
   "execution_count": 11,
   "metadata": {},
   "outputs": [
    {
     "name": "stdout",
     "output_type": "stream",
     "text": [
      "True\n",
      "True\n",
      "True\n",
      "False\n",
      "True\n",
      "False\n",
      "False\n",
      "True\n",
      "97\n",
      "65\n",
      "49\n",
      "50\n"
     ]
    }
   ],
   "source": [
    "print(2==2)\n",
    "print(3!='3')\n",
    "print('u'>'t')\n",
    "print('wS'<'s')\n",
    "print('hi'>='h')\n",
    "print('a'==97)\n",
    "print(0==0.1)\n",
    "print(0==0.0)\n",
    "\n",
    "#ord method is used to find aschii(American Standard Code for Information Interchange) value for an charecter\n",
    "print(ord('a'))\n",
    "print(ord('A'))\n",
    "print(ord('1'))\n",
    "print(ord('2'))\n",
    "\n",
    "# ord(12),ord('hi') give error\n"
   ]
  },
  {
   "attachments": {},
   "cell_type": "markdown",
   "metadata": {},
   "source": [
    "### Logical Operators"
   ]
  },
  {
   "cell_type": "code",
   "execution_count": 12,
   "metadata": {},
   "outputs": [
    {
     "name": "stdout",
     "output_type": "stream",
     "text": [
      "False\n",
      "True\n",
      "False\n",
      "False\n",
      "b\n",
      "True\n",
      "True\n",
      "False\n",
      "True\n",
      "\n",
      "False\n"
     ]
    }
   ],
   "source": [
    "print(True and False)# we can use like if(<condition1> and <condition2>)\n",
    "print(True and True)\n",
    "print(False and False)\n",
    "print(False and True)\n",
    "print(chr(98))\n",
    "print(True  or False)\n",
    "print(True  or True)\n",
    "print(False or  False)\n",
    "print(False or  True)\n",
    "print()\n",
    "print(not(True))"
   ]
  },
  {
   "attachments": {},
   "cell_type": "markdown",
   "metadata": {},
   "source": [
    "### Identity Operator"
   ]
  },
  {
   "cell_type": "code",
   "execution_count": 13,
   "metadata": {},
   "outputs": [
    {
     "name": "stdout",
     "output_type": "stream",
     "text": [
      "True\n",
      "True\n",
      "False\n",
      "\n",
      "True\n"
     ]
    }
   ],
   "source": [
    "a=4\n",
    "b=a\n",
    "print(a is b)\n",
    "b=4\n",
    "print(a is b)\n",
    "b=3\n",
    "print(a is b)\n",
    "print()\n",
    "a='3'\n",
    "print(a is not b)\n",
    "\n",
    "\n"
   ]
  },
  {
   "attachments": {},
   "cell_type": "markdown",
   "metadata": {},
   "source": [
    "### Membership Operators"
   ]
  },
  {
   "cell_type": "code",
   "execution_count": 14,
   "metadata": {},
   "outputs": [
    {
     "name": "stdout",
     "output_type": "stream",
     "text": [
      "True\n",
      "False\n",
      "True\n",
      "False\n"
     ]
    }
   ],
   "source": [
    "# in is aplicable for only strings\n",
    "\n",
    "a='2'\n",
    "b='3 2'\n",
    "print(a in b)\n",
    "a=' '\n",
    "print(a not in b)\n",
    "a=''\n",
    "print(a in b)\n",
    "a=' '\n",
    "b=''\n",
    "print(a in b)"
   ]
  },
  {
   "attachments": {},
   "cell_type": "markdown",
   "metadata": {},
   "source": [
    "### Bitwise operator"
   ]
  },
  {
   "cell_type": "code",
   "execution_count": null,
   "metadata": {},
   "outputs": [],
   "source": [
    "x=2\n",
    "y=4\n",
    "# bin() is method to get binary values\n",
    "\n",
    "print(bin(x))\n",
    "print(bin(y))\n",
    "\n",
    "print()\n",
    "print(x&y)# And\n",
    "print(bin(0))\n",
    "print(x|y)# Or\n",
    "print(bin(6))\n",
    "print(x^y)# Xor\n",
    "print(bin(6))\n",
    "print(~x)# not\n",
    "print(bin(-3))\n",
    "print(x<<2)# left shift\n",
    "print(bin(8))\n",
    "print(x>>2)# right shift"
   ]
  },
  {
   "attachments": {},
   "cell_type": "markdown",
   "metadata": {},
   "source": [
    "***\n",
    "**A small fun fact**\n",
    "* the different ways for using print()"
   ]
  },
  {
   "cell_type": "code",
   "execution_count": 15,
   "metadata": {},
   "outputs": [
    {
     "name": "stdout",
     "output_type": "stream",
     "text": [
      "hi\n",
      "\n",
      "hi\n"
     ]
    }
   ],
   "source": [
    "print('hi')\n",
    "print()\n",
    "# it give and empty line\n",
    "print('hi')"
   ]
  },
  {
   "cell_type": "code",
   "execution_count": 17,
   "metadata": {},
   "outputs": [
    {
     "name": "stdout",
     "output_type": "stream",
     "text": [
      "hirhi\n",
      "hi\n",
      "\n",
      "hi\n"
     ]
    }
   ],
   "source": [
    "# or use\n",
    "a='hi'\n",
    "print(a,end='r')\n",
    "\n",
    "print(a,end='\\n')\n",
    "\n",
    "print(a,end='\\n\\n')\n",
    "print('hi')"
   ]
  },
  {
   "cell_type": "code",
   "execution_count": 18,
   "metadata": {},
   "outputs": [
    {
     "name": "stdout",
     "output_type": "stream",
     "text": [
      "12 4 2023\n",
      "12/4/2023\n"
     ]
    }
   ],
   "source": [
    "a,b,c=12,4,2023\n",
    "print(a,b,c)\n",
    "print(a,b,c,sep='/')"
   ]
  },
  {
   "attachments": {},
   "cell_type": "markdown",
   "metadata": {},
   "source": [
    "now we see about format() and f\"__\" or F-string"
   ]
  },
  {
   "cell_type": "code",
   "execution_count": null,
   "metadata": {},
   "outputs": [],
   "source": [
    "print('I give {},{} and {} values'.format(a,b,c))\n",
    "s='srikumran'\n",
    "# note the f\"---\"\n",
    "# f-string\n",
    "print(f'hello {s}')"
   ]
  },
  {
   "cell_type": "code",
   "execution_count": 19,
   "metadata": {},
   "outputs": [
    {
     "ename": "NameError",
     "evalue": "name 's' is not defined",
     "output_type": "error",
     "traceback": [
      "\u001b[1;31m---------------------------------------------------------------------------\u001b[0m",
      "\u001b[1;31mNameError\u001b[0m                                 Traceback (most recent call last)",
      "\u001b[1;32md:\\DataA\\startPython.ipynb Cell 55\u001b[0m line \u001b[0;36m2\n\u001b[0;32m      <a href='vscode-notebook-cell:/d%3A/DataA/startPython.ipynb#Y105sZmlsZQ%3D%3D?line=0'>1</a>\u001b[0m \u001b[39m# using ',' in print give default space\u001b[39;00m\n\u001b[1;32m----> <a href='vscode-notebook-cell:/d%3A/DataA/startPython.ipynb#Y105sZmlsZQ%3D%3D?line=1'>2</a>\u001b[0m \u001b[39mprint\u001b[39m(\u001b[39m'\u001b[39m\u001b[39mhi\u001b[39m\u001b[39m'\u001b[39m,\u001b[39m'\u001b[39m\u001b[39mi\u001b[39m\u001b[39m'\u001b[39m,\u001b[39m'\u001b[39m\u001b[39mam\u001b[39m\u001b[39m'\u001b[39m,s)\n\u001b[0;32m      <a href='vscode-notebook-cell:/d%3A/DataA/startPython.ipynb#Y105sZmlsZQ%3D%3D?line=2'>3</a>\u001b[0m \u001b[39m# using '+' or concatenation is did not give any spaces\u001b[39;00m\n\u001b[0;32m      <a href='vscode-notebook-cell:/d%3A/DataA/startPython.ipynb#Y105sZmlsZQ%3D%3D?line=3'>4</a>\u001b[0m \u001b[39mprint\u001b[39m(\u001b[39m'\u001b[39m\u001b[39mhi!\u001b[39m\u001b[39m'\u001b[39m\u001b[39m+\u001b[39m\u001b[39m'\u001b[39m\u001b[39mI am \u001b[39m\u001b[39m'\u001b[39m\u001b[39m+\u001b[39ms)\n",
      "\u001b[1;31mNameError\u001b[0m: name 's' is not defined"
     ]
    }
   ],
   "source": [
    "# using ',' in print give default space\n",
    "print('hi','i','am',s)\n",
    "# using '+' or concatenation is did not give any spaces\n",
    "print('hi!'+'I am '+s)"
   ]
  },
  {
   "attachments": {},
   "cell_type": "markdown",
   "metadata": {},
   "source": [
    "***"
   ]
  },
  {
   "attachments": {},
   "cell_type": "markdown",
   "metadata": {},
   "source": [
    "## Decision making\n",
    "\n",
    "### If condition"
   ]
  },
  {
   "cell_type": "code",
   "execution_count": null,
   "metadata": {},
   "outputs": [],
   "source": [
    "a=5\n",
    "b=5\n",
    "\n",
    "if a>b:\n",
    "    print(\"the a is gretar and his value {}\".format(a))\n",
    "elif a<b:\n",
    "    print(\"B is gretar one and his value {}\".format(b))"
   ]
  },
  {
   "cell_type": "code",
   "execution_count": null,
   "metadata": {},
   "outputs": [],
   "source": [
    "if a!=b:\n",
    "    print(\"a and b is not equal\")\n",
    "else:\n",
    "    print(\"a and b is equal\")"
   ]
  },
  {
   "cell_type": "code",
   "execution_count": null,
   "metadata": {},
   "outputs": [],
   "source": [
    "if a==b:\n",
    "    print(\"the given two values or a:{} and b:{}\".format(a,b))"
   ]
  },
  {
   "cell_type": "code",
   "execution_count": null,
   "metadata": {},
   "outputs": [],
   "source": [
    "print(\"hi\") if a else print(\"bye\")\n",
    "# a exist so it consider a as a true see type casting if any value exsist it converted to True."
   ]
  },
  {
   "cell_type": "code",
   "execution_count": null,
   "metadata": {},
   "outputs": [],
   "source": [
    "#nested if\n",
    "if a:\n",
    "    if a==1:\n",
    "        print(\"a is 1\")\n",
    "    else :\n",
    "        print(\"value of a is  {}\".format(a))\n",
    "else:\n",
    "    print(\"a does not exsist\")"
   ]
  },
  {
   "attachments": {},
   "cell_type": "markdown",
   "metadata": {},
   "source": [
    "### Loops"
   ]
  },
  {
   "cell_type": "code",
   "execution_count": null,
   "metadata": {},
   "outputs": [],
   "source": [
    "t=True\n",
    "i=0\n",
    "while(t):\n",
    "    print('hi',end='\\n\\n')\n",
    "    if i==3:\n",
    "        t=False\n",
    "    i+=1\n"
   ]
  },
  {
   "cell_type": "code",
   "execution_count": null,
   "metadata": {},
   "outputs": [],
   "source": [
    "for i in \"Python\":\n",
    "    print(i,end=\"\\t\")"
   ]
  },
  {
   "cell_type": "code",
   "execution_count": null,
   "metadata": {},
   "outputs": [],
   "source": [
    "l=[1,2,3,4,5]\n",
    "for i in l:\n",
    "    print(i,end=\"\\t\")"
   ]
  },
  {
   "cell_type": "code",
   "execution_count": 1,
   "metadata": {},
   "outputs": [
    {
     "name": "stdout",
     "output_type": "stream",
     "text": [
      "range(0, 1)\n",
      "range(1, 5)\n",
      "range(1, 10, 2)\n"
     ]
    }
   ],
   "source": [
    "# using range(_,_,_)\n",
    "print(range(1))\n",
    "print(range(1,5))\n",
    "print(range(1,10,2))"
   ]
  },
  {
   "cell_type": "code",
   "execution_count": 2,
   "metadata": {},
   "outputs": [
    {
     "name": "stdout",
     "output_type": "stream",
     "text": [
      "1\t10\n",
      "8\n",
      "6\n",
      "4\n",
      "2\n",
      "3\t10\n",
      "8\n",
      "6\n",
      "4\n",
      "2\n",
      "5\t10\n",
      "8\n",
      "6\n",
      "4\n",
      "2\n",
      "7\t10\n",
      "8\n",
      "6\n",
      "4\n",
      "2\n",
      "9\t10\n",
      "8\n",
      "6\n",
      "4\n",
      "2\n"
     ]
    }
   ],
   "source": [
    "# nested loop \n",
    "for i in range(1,10,2):\n",
    "    print(i,end=\"\\t\")\n",
    "    for i in range(10,1,-2):\n",
    "         print(i,end=\"\\n\")"
   ]
  },
  {
   "cell_type": "code",
   "execution_count": null,
   "metadata": {},
   "outputs": [],
   "source": [
    "[print(\"hi\") for i in range(5)]\n",
    "# it also return values "
   ]
  },
  {
   "attachments": {},
   "cell_type": "markdown",
   "metadata": {},
   "source": [
    "## Function\n",
    "\n",
    "### Mathamatical functions"
   ]
  },
  {
   "cell_type": "code",
   "execution_count": null,
   "metadata": {},
   "outputs": [],
   "source": [
    "import math"
   ]
  },
  {
   "cell_type": "code",
   "execution_count": null,
   "metadata": {},
   "outputs": [],
   "source": [
    "print(math.ceil(-45.17))\n",
    "print(math.ceil(45.17))"
   ]
  },
  {
   "cell_type": "code",
   "execution_count": null,
   "metadata": {},
   "outputs": [],
   "source": [
    "print(math.pi)"
   ]
  },
  {
   "cell_type": "code",
   "execution_count": null,
   "metadata": {},
   "outputs": [],
   "source": [
    "print(math.exp(1))\n",
    "print(math.exp(0))\n",
    "math.exp(2)"
   ]
  },
  {
   "cell_type": "code",
   "execution_count": null,
   "metadata": {},
   "outputs": [],
   "source": [
    "math.fabs(100)"
   ]
  },
  {
   "cell_type": "code",
   "execution_count": null,
   "metadata": {},
   "outputs": [],
   "source": [
    "print(math.floor(4.3))\n",
    "print(math.ceil(4.3))"
   ]
  },
  {
   "cell_type": "code",
   "execution_count": null,
   "metadata": {},
   "outputs": [],
   "source": [
    "print(math.pow(100,2))\n",
    "print(math.pow(100,-2))"
   ]
  },
  {
   "cell_type": "code",
   "execution_count": null,
   "metadata": {},
   "outputs": [],
   "source": [
    "print(math.factorial(2))\n",
    "print(math.factorial(5))"
   ]
  },
  {
   "cell_type": "code",
   "execution_count": null,
   "metadata": {},
   "outputs": [],
   "source": [
    "print(math.remainder(5,2))"
   ]
  },
  {
   "cell_type": "code",
   "execution_count": null,
   "metadata": {},
   "outputs": [],
   "source": [
    "print(math.log(5))"
   ]
  },
  {
   "cell_type": "code",
   "execution_count": null,
   "metadata": {},
   "outputs": [],
   "source": [
    "print(math.sin(60))\n",
    "print(math.cos(60))\n",
    "print(math.tan(20))\n",
    "print(math.acos(0))\n",
    "print(math.sinh(90))"
   ]
  },
  {
   "attachments": {},
   "cell_type": "markdown",
   "metadata": {},
   "source": [
    "### Ramdom Number function"
   ]
  }
 ],
 "metadata": {
  "kernelspec": {
   "display_name": "Python 3",
   "language": "python",
   "name": "python3"
  },
  "language_info": {
   "codemirror_mode": {
    "name": "ipython",
    "version": 3
   },
   "file_extension": ".py",
   "mimetype": "text/x-python",
   "name": "python",
   "nbconvert_exporter": "python",
   "pygments_lexer": "ipython3",
   "version": "3.11.2"
  },
  "orig_nbformat": 4
 },
 "nbformat": 4,
 "nbformat_minor": 2
}
